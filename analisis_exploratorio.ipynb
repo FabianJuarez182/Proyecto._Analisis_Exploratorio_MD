{
 "cells": [
  {
   "cell_type": "code",
   "execution_count": null,
   "metadata": {},
   "outputs": [],
   "source": [
    "import pandas as pd\n",
    "import matplotlib.pyplot as plt\n",
    "import seaborn as sns"
   ]
  },
  {
   "cell_type": "code",
   "execution_count": null,
   "metadata": {},
   "outputs": [],
   "source": [
    "datos = pd.read_csv('Migration_Flows_from_2010_to_2019.csv')\n",
    "print(datos.head())\n",
    "\n",
    "descripcion = datos.describe()\n",
    "print(descripcion)"
   ]
  },
  {
   "cell_type": "code",
   "execution_count": null,
   "metadata": {},
   "outputs": [],
   "source": [
    "# Agrupar por estado destino, estado origen y sumar las migraciones totales\n",
    "migraciones_agrupadas = datos.groupby(['current_state', 'from'])[['number_of_people']].sum()\n",
    "\n",
    "# migraciones_agrupadas.to_csv('migraciones_agrupadas.csv')\n",
    "print(migraciones_agrupadas)"
   ]
  },
  {
   "cell_type": "code",
   "execution_count": null,
   "metadata": {},
   "outputs": [],
   "source": [
    "# Agrupar por estado origen, anio y sumar las migraciones totales\n",
    "migraciones_anuales = datos.groupby(['from', 'year'])[['number_of_people']].sum()\n",
    "\n",
    "# migraciones_anuales.to_csv('migraciones_anuales.csv')\n",
    "print(migraciones_anuales)"
   ]
  },
  {
   "cell_type": "code",
   "execution_count": null,
   "metadata": {},
   "outputs": [],
   "source": [
    "# Grafico entre población y migración\n",
    "plt.figure(figsize=(8, 6))\n",
    "sns.scatterplot(x=datos['population'], y=datos['number_of_people'])\n",
    "plt.xlabel('Población')\n",
    "plt.ylabel('Número de Personas')\n",
    "plt.title('Relación entre Población y Migración')\n",
    "plt.show()"
   ]
  }
 ],
 "metadata": {
  "language_info": {
   "name": "python"
  }
 },
 "nbformat": 4,
 "nbformat_minor": 2
}
